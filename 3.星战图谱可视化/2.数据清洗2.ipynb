{
 "cells": [
  {
   "cell_type": "code",
   "execution_count": 12,
   "metadata": {
    "collapsed": true,
    "pycharm": {
     "is_executing": false
    }
   },
   "outputs": [],
   "source": [
    "import sys\n",
    "import json"
   ]
  },
  {
   "cell_type": "code",
   "execution_count": 13,
   "outputs": [
    {
     "data": {
      "text/plain": "16"
     },
     "metadata": {},
     "output_type": "execute_result",
     "execution_count": 13
    }
   ],
   "source": [
    "fr=open('characters.csv','r') # 读\n",
    "fw=open('xcy_character.csv','w') # 写\n",
    "fw.write('title,key,value\\n')"
   ],
   "metadata": {
    "collapsed": false,
    "pycharm": {
     "name": "#%%\n",
     "is_executing": false
    }
   }
  },
  {
   "cell_type": "code",
   "execution_count": 14,
   "outputs": [],
   "source": [
    "for line in fr:\n",
    "    tmp=json.loads(line.strip('\\n')) # 去掉换行符,变成字典\n",
    "    if tmp['height']=='unknown':\n",
    "        tmp['height']='-1'\n",
    "    if tmp['mass']=='unknown':\n",
    "        tmp['mass']='-1'\n",
    "    if tmp['gender']=='none':\n",
    "        tmp['gender']='n/a'\n",
    "    fw.write(tmp['name'] + ',' +  tmp['height'] + ',' + tmp['mass']+ ',' + tmp['gender'].strip() + ',' + tmp['homeworld'] + '\\n')\n",
    "\n",
    "    # 先写入title,写入key,统计多少个"
   ],
   "metadata": {
    "collapsed": false,
    "pycharm": {
     "name": "#%%\n",
     "is_executing": false
    }
   }
  },
  {
   "cell_type": "code",
   "execution_count": 15,
   "outputs": [],
   "source": [
    "fr.close()\n",
    "fw.close()"
   ],
   "metadata": {
    "collapsed": false,
    "pycharm": {
     "name": "#%%\n",
     "is_executing": false
    }
   }
  }
 ],
 "metadata": {
  "kernelspec": {
   "display_name": "Python 3",
   "language": "python",
   "name": "python3"
  },
  "language_info": {
   "codemirror_mode": {
    "name": "ipython",
    "version": 2
   },
   "file_extension": ".py",
   "mimetype": "text/x-python",
   "name": "python",
   "nbconvert_exporter": "python",
   "pygments_lexer": "ipython2",
   "version": "2.7.6"
  },
  "pycharm": {
   "stem_cell": {
    "cell_type": "raw",
    "source": [],
    "metadata": {
     "collapsed": false
    }
   }
  }
 },
 "nbformat": 4,
 "nbformat_minor": 0
}