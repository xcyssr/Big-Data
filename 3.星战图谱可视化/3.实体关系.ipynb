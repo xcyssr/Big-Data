{
 "cells": [
  {
   "cell_type": "code",
   "execution_count": 63,
   "metadata": {
    "collapsed": true,
    "pycharm": {
     "is_executing": false
    }
   },
   "outputs": [],
   "source": [
    "import sys\n",
    "import time\n",
    "import json\n",
    "import pprint\n",
    "\n",
    "films = {}\n",
    "characters = {}\n",
    "planets = {}\n",
    "starships = {}\n",
    "vehicles = {}\n",
    "species = {}\n",
    "\n",
    "fr = open('../films.csv', 'r')\n",
    "for line in fr:\n",
    "\ttmp = json.loads(line.strip('\\n'))\n",
    "\tfilms[tmp['url']] = tmp\n",
    "fr.close()\n",
    "fr = open('../characters.csv', 'r')\n",
    "for line in fr:\n",
    "\ttmp = json.loads(line.strip('\\n'))\n",
    "\tcharacters[tmp['url']] = tmp\n",
    "fr.close()\n",
    "fr = open('../planets.csv', 'r')\n",
    "for line in fr:\n",
    "\ttmp = json.loads(line.strip('\\n'))\n",
    "\tplanets[tmp['url']] = tmp\n",
    "fr.close()\n",
    "fr = open('../starships.csv', 'r')\n",
    "for line in fr:\n",
    "\ttmp = json.loads(line.strip('\\n'))\n",
    "\tstarships[tmp['url']] = tmp\n",
    "fr.close()\n",
    "fr = open('../vehicles.csv', 'r')\n",
    "for line in fr:\n",
    "\ttmp = json.loads(line.strip('\\n'))\n",
    "\tvehicles[tmp['url']] = tmp\n",
    "fr.close()\n",
    "fr = open('../species.csv', 'r')\n",
    "for line in fr:\n",
    "\ttmp = json.loads(line.strip('\\n'))\n",
    "\tspecies[tmp['url']] = tmp\n",
    "fr.close()\n",
    "\n",
    "nodes = []\n",
    "links = []"
   ]
  },
  {
   "cell_type": "code",
   "execution_count": 64,
   "outputs": [],
   "source": [
    "# 电影\n",
    "for key, value in films.items():\n",
    "\tnodes.append({'id': value['title'], 'class': 'film', 'group': 0, 'size': 20})\n",
    "\t# characters\n",
    "\tfor item in value['characters']:\n",
    "\t\tif item in characters:\n",
    "\t\t\tlinks.append({'source': value['title'], 'target': characters[item]['name'], 'value': 3})\n",
    "\t# planets\n",
    "\tfor item in value['planets']:\n",
    "\t\tif item in planets:\n",
    "\t\t\tlinks.append({'source': value['title'], 'target': planets[item]['name'], 'value': 3})\n",
    "\t# species\n",
    "\tfor item in value['species']:\n",
    "\t\tif item in species:\n",
    "\t\t\tlinks.append({'source': value['title'], 'target': species[item]['name'], 'value': 3})\n",
    "\t# starships\n",
    "\tfor item in value['starships']:\n",
    "\t\tif item in starships:\n",
    "\t\t\tlinks.append({'source': value['title'], 'target': starships[item]['name'], 'value': 3})\n",
    "\t# vehicles\n",
    "\tfor item in value['vehicles']:\n",
    "\t\tif item in vehicles:\n",
    "\t\t\tlinks.append({'source': value['title'], 'target': vehicles[item]['name'], 'value': 3})"
   ],
   "metadata": {
    "collapsed": false,
    "pycharm": {
     "name": "#%%\n",
     "is_executing": false
    }
   }
  },
  {
   "cell_type": "code",
   "execution_count": 65,
   "outputs": [],
   "source": [
    "for key, value in characters.items():\n",
    "\tnodes.append({'id': value['name'], 'class': 'character', 'group': 1, 'size': 5})\n",
    "\t# films\n",
    " \n",
    "\tfor item in value['films']:\n",
    "\t\tif item in films:\n",
    "\t\t\tlinks.append({'source': value['name'], 'target': films[item]['title'], 'value': 3})         \n",
    "       # planets\n",
    "\tif item in planets:\n",
    "\t\tlinks.append({'source': value['name'], 'target': planets[value['homeworld']]['name'], 'value': 3})\n",
    "\t# species\n",
    "\tfor item in value['species']:\n",
    "\t\tif item in species:\n",
    "\t\t\tlinks.append({'source': value['name'], 'target': species[item]['name'], 'value': 3})\n",
    "\t# starships\n",
    "\tfor item in value['starships']:\n",
    "\t\tif item in starships:\n",
    "\t\t\tlinks.append({'source': value['name'], 'target': starships[item]['name'], 'value': 3})\n",
    "\t# vehicles\n",
    "\tfor item in value['vehicles']:\n",
    "\t\tif item in vehicles:\n",
    "\t\t\tlinks.append({'source': value['name'], 'target': vehicles[item]['name'], 'value': 3})\n",
    "            \n",
    "            "
   ],
   "metadata": {
    "collapsed": false,
    "pycharm": {
     "name": "#%%\n",
     "is_executing": false
    }
   }
  },
  {
   "cell_type": "code",
   "execution_count": 66,
   "outputs": [],
   "source": [
    "\n",
    "for key, value in planets.items():\n",
    "\tnodes.append({'id': value['name'], 'class': 'planet', 'group': 2, 'size': 16})\n",
    "\t# films\n",
    "\tfor item in value['films']:\n",
    "\t\tif item in films:\n",
    "\t\t\tlinks.append({'source': value['name'], 'target': films[item]['title'], 'value': 3})\n",
    "\t# characters\n",
    "\tfor item in value['residents']:\n",
    "\t\tif item in characters:\n",
    "\t\t\tlinks.append({'source': value['name'], 'target': characters[item]['name'], 'value': 3})\n",
    "            \n",
    "            "
   ],
   "metadata": {
    "collapsed": false,
    "pycharm": {
     "name": "#%%\n",
     "is_executing": false
    }
   }
  },
  {
   "cell_type": "code",
   "execution_count": 67,
   "outputs": [],
   "source": [
    "\n",
    "for key, value in starships.items():\n",
    "\tnodes.append({'id': value['name'], 'class': 'starship', 'group': 3, 'size': 8})\n",
    "\t# films\n",
    "\tfor item in value['films']:\n",
    "\t\tif item in films:\n",
    "\t\t\tlinks.append({'source': value['name'], 'target': films[item]['title'], 'value': 3})\n",
    "\t# characters\n",
    "\tfor item in value['pilots']:\n",
    "\t\tif item in characters:\n",
    "\t\t\tlinks.append({'source': value['name'], 'target': characters[item]['name'], 'value': 3})\n",
    "            \n",
    "            "
   ],
   "metadata": {
    "collapsed": false,
    "pycharm": {
     "name": "#%%\n",
     "is_executing": false
    }
   }
  },
  {
   "cell_type": "code",
   "execution_count": 68,
   "outputs": [],
   "source": [
    "\n",
    "for key, value in vehicles.items():\n",
    "\tnodes.append({'id': value['name'], 'class': 'vehicle', 'group': 4, 'size': 8})\n",
    "\t# films\n",
    "\tfor item in value['films']:\n",
    "\t\tif item in films:\n",
    "\t\t\tlinks.append({'source': value['name'], 'target': films[item]['title'], 'value': 3})\n",
    "\t# characters\n",
    "\tfor item in value['pilots']:\n",
    "\t\tif item in characters:\n",
    "\t\t\tlinks.append({'source': value['name'], 'target': characters[item]['name'], 'value': 3})\n",
    "            \n",
    "            "
   ],
   "metadata": {
    "collapsed": false,
    "pycharm": {
     "name": "#%%\n",
     "is_executing": false
    }
   }
  },
  {
   "cell_type": "code",
   "execution_count": 69,
   "outputs": [],
   "source": [
    "\n",
    "for key, value in species.items():\n",
    "\tnodes.append({'id': value['name'], 'class': 'species', 'group': 5, 'size': 14})\n",
    "\t# planets\n",
    "\tif item in planets:\n",
    "\t\tlinks.append({'source': value['name'], 'target': planets[value['homeworld']]['name'], 'value': 3})\n",
    "\t# films\n",
    "\tfor item in value['films']:\n",
    "\t\tif item in films:\n",
    "\t\t\tlinks.append({'source': value['name'], 'target': films[item]['title'], 'value': 3})\n",
    "\t# characters\n",
    "\tfor item in value['people']:\n",
    "\t\tif item in characters:\n",
    "\t\t\tlinks.append({'source': value['name'], 'target': characters[item]['name'], 'value': 3})\n"
   ],
   "metadata": {
    "collapsed": false,
    "pycharm": {
     "name": "#%%\n",
     "is_executing": false
    }
   }
  },
  {
   "cell_type": "code",
   "execution_count": 70,
   "outputs": [],
   "source": [
    "fw = open('../html/xcy_starwar.json', 'w')\n",
    "fw.write(json.dumps({'nodes': nodes, 'links': links}))\n",
    "fw.close()"
   ],
   "metadata": {
    "collapsed": false,
    "pycharm": {
     "name": "#%%\n",
     "is_executing": false
    }
   }
  }
 ],
 "metadata": {
  "kernelspec": {
   "display_name": "Python 3",
   "language": "python",
   "name": "python3"
  },
  "language_info": {
   "codemirror_mode": {
    "name": "ipython",
    "version": 2
   },
   "file_extension": ".py",
   "mimetype": "text/x-python",
   "name": "python",
   "nbconvert_exporter": "python",
   "pygments_lexer": "ipython2",
   "version": "2.7.6"
  },
  "pycharm": {
   "stem_cell": {
    "cell_type": "raw",
    "source": [],
    "metadata": {
     "collapsed": false
    }
   }
  }
 },
 "nbformat": 4,
 "nbformat_minor": 0
}