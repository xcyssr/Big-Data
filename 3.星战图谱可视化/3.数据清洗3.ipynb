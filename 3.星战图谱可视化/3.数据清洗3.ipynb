{
 "cells": [
  {
   "cell_type": "code",
   "execution_count": 20,
   "metadata": {
    "collapsed": true,
    "pycharm": {
     "is_executing": false
    }
   },
   "outputs": [],
   "source": [
    "import sys\n",
    "import json"
   ]
  },
  {
   "cell_type": "code",
   "execution_count": 21,
   "outputs": [
    {
     "data": {
      "text/plain": "36"
     },
     "metadata": {},
     "output_type": "execute_result",
     "execution_count": 21
    }
   ],
   "source": [
    "fr=open('species.csv','r') # 读\n",
    "fw=open('xcy_species.csv','w') # 写\n",
    "fw.write('name,height,lifespan,classification\\n')"
   ],
   "metadata": {
    "collapsed": false,
    "pycharm": {
     "name": "#%%\n",
     "is_executing": false
    }
   }
  },
  {
   "cell_type": "code",
   "execution_count": 22,
   "outputs": [],
   "source": [
    "for line in fr:\n",
    "    tmp=json.loads(line.strip('\\n')) # 去掉换行符,变成字典\n",
    "    if tmp['classification']=='mammals':\n",
    "        tmp['classification']='mammal'\n",
    "    if tmp['classification']=='reptilian':\n",
    "        tmp['classification']='reptile'\n",
    "    if tmp['average_height']in['unknown','n/a']:\n",
    "        tmp['average_height']='-1'\n",
    "    if tmp['average_lifespan']in['unknown','indefinete']:\n",
    "        tmp['average_lifespan']='-1'\n",
    "    \n",
    "    fw.write(tmp['name'] + ',' +  tmp['average_height'] + ',' + tmp['average_lifespan']+ ',' + tmp['classification'].strip() + '\\n')\n",
    "\n",
    "    # 先写入title,写入key,统计多少个"
   ],
   "metadata": {
    "collapsed": false,
    "pycharm": {
     "name": "#%%\n",
     "is_executing": false
    }
   }
  },
  {
   "cell_type": "code",
   "execution_count": 23,
   "outputs": [],
   "source": [
    "fr.close()\n",
    "fw.close()\n"
   ],
   "metadata": {
    "collapsed": false,
    "pycharm": {
     "name": "#%%\n",
     "is_executing": false
    }
   }
  }
 ],
 "metadata": {
  "kernelspec": {
   "display_name": "Python 3",
   "language": "python",
   "name": "python3"
  },
  "language_info": {
   "codemirror_mode": {
    "name": "ipython",
    "version": 2
   },
   "file_extension": ".py",
   "mimetype": "text/x-python",
   "name": "python",
   "nbconvert_exporter": "python",
   "pygments_lexer": "ipython2",
   "version": "2.7.6"
  },
  "pycharm": {
   "stem_cell": {
    "cell_type": "raw",
    "source": [],
    "metadata": {
     "collapsed": false
    }
   }
  }
 },
 "nbformat": 4,
 "nbformat_minor": 0
}